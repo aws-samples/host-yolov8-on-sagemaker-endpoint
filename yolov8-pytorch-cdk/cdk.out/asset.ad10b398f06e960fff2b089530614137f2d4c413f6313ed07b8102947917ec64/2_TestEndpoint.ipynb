{
 "cells": [
  {
   "cell_type": "code",
   "execution_count": null,
   "id": "b0bbe366-1f98-465a-b645-4d71ac37690a",
   "metadata": {},
   "outputs": [],
   "source": [
    "import boto3, cv2, time, numpy as np, matplotlib.pyplot as plt\n",
    "from sagemaker.pytorch import PyTorchPredictor\n",
    "from sagemaker.deserializers import JSONDeserializer"
   ]
  },
  {
   "cell_type": "markdown",
   "id": "158dcccc-905b-4448-8570-94015bc67d19",
   "metadata": {},
   "source": [
    "## Run Inference"
   ]
  },
  {
   "cell_type": "code",
   "execution_count": null,
   "id": "74487be9-e5dd-4a4c-aed6-75a2e895aace",
   "metadata": {},
   "outputs": [],
   "source": [
    "sm_client = boto3.client(service_name=\"sagemaker\")\n",
    "response = sm_client.list_endpoints()\n",
    "\n",
    "endpoint_name = 'ADD THE ENDPOINT NAME AS IT WAS CREATED IN THE PREVIOUS NOTEBOOK'\n",
    "\n",
    "# while True:\n",
    "for ep in response['Endpoints']:\n",
    "    print(f\"Endpoint Status = {ep['EndpointStatus']}\")\n",
    "    if ep['EndpointName']==endpoint_name and ep['EndpointStatus']=='InService':\n",
    "        break\n",
    "    time.sleep(5)        "
   ]
  },
  {
   "cell_type": "code",
   "execution_count": null,
   "id": "0c86427f-5528-4bdd-b214-15a777ee56da",
   "metadata": {},
   "outputs": [],
   "source": [
    "predictor = PyTorchPredictor(endpoint_name=endpoint_name,\n",
    "                             deserializer=JSONDeserializer())"
   ]
  },
  {
   "cell_type": "code",
   "execution_count": null,
   "id": "e0180fcb-ea19-4fc5-80a9-fdaad7f8e8b8",
   "metadata": {},
   "outputs": [],
   "source": [
    "infer_start_time = time.time()\n",
    "\n",
    "orig_image = cv2.imread('bus.jpg')\n",
    "\n",
    "image_height, image_width, _ = orig_image.shape\n",
    "model_height, model_width = 300, 300\n",
    "x_ratio = image_width/model_width\n",
    "y_ratio = image_height/model_height\n",
    "\n",
    "resized_image = cv2.resize(orig_image, (model_height, model_width))\n",
    "payload = cv2.imencode('.jpg', resized_image)[1].tobytes()\n",
    "result = predictor.predict(payload)\n",
    "\n",
    "infer_end_time = time.time()\n",
    "\n",
    "print(f\"Inference Time = {infer_end_time - infer_start_time:0.4f} seconds\")\n",
    "\n",
    "for x1,y1,x2,y2,conf,lbl in result['boxes']:\n",
    "    x1, x2 = int(x_ratio*x1), int(x_ratio*x2)\n",
    "    y1, y2 = int(y_ratio*y1), int(y_ratio*y2)\n",
    "    cv2.rectangle(orig_image, (x1,y1), (x2,y2), (0,255,0), 4)\n",
    "    cv2.putText(orig_image, f\"Class: {int(lbl)}\", (x1,y1-40), cv2.FONT_HERSHEY_SIMPLEX, 1, (255,255,255), 2, cv2.LINE_AA)\n",
    "    cv2.putText(orig_image, f\"Conf: {int(conf*100)}\", (x1,y1-10), cv2.FONT_HERSHEY_SIMPLEX, 1, (255,255,255), 2, cv2.LINE_AA)"
   ]
  },
  {
   "cell_type": "code",
   "execution_count": null,
   "id": "58f088a3-2b6d-4a98-9dbe-ad16593c4242",
   "metadata": {},
   "outputs": [],
   "source": [
    "plt.imshow(cv2.cvtColor(orig_image, cv2.COLOR_BGR2RGB))\n",
    "plt.show()"
   ]
  },
  {
   "cell_type": "markdown",
   "id": "9f167efa-02b2-434c-ae35-8109154b6df8",
   "metadata": {},
   "source": [
    "## Cleanup by removing Endpoint, Endpoint Config and Model"
   ]
  },
  {
   "cell_type": "code",
   "execution_count": null,
   "id": "c94b6f40-8a02-47ff-b576-806705aeb20f",
   "metadata": {},
   "outputs": [],
   "source": [
    "response = sm_client.describe_endpoint_config(EndpointConfigName=endpoint_name)\n",
    "print(response)\n",
    "endpoint_config_name = response['EndpointConfigName']\n",
    "\n",
    "# Delete Endpoint\n",
    "sm_client.delete_endpoint(EndpointName=endpoint_name)\n",
    "\n",
    "# Delete Endpoint Configuration\n",
    "sm_client.delete_endpoint_config(EndpointConfigName=endpoint_config_name)\n",
    "\n",
    "# Delete Model\n",
    "for prod_var in response['ProductionVariants']:\n",
    "    model_name = prod_var['ModelName']\n",
    "    sm_client.delete_model(ModelName=model_name)     "
   ]
  },
  {
   "cell_type": "code",
   "execution_count": null,
   "id": "29ebf89e-beca-4d1f-b5e4-7bc6110783de",
   "metadata": {},
   "outputs": [],
   "source": []
  }
 ],
 "metadata": {
  "kernelspec": {
   "display_name": "conda_amazonei_pytorch_latest_p37",
   "language": "python",
   "name": "conda_amazonei_pytorch_latest_p37"
  },
  "language_info": {
   "codemirror_mode": {
    "name": "ipython",
    "version": 3
   },
   "file_extension": ".py",
   "mimetype": "text/x-python",
   "name": "python",
   "nbconvert_exporter": "python",
   "pygments_lexer": "ipython3",
   "version": "3.7.13"
  }
 },
 "nbformat": 4,
 "nbformat_minor": 5
}
